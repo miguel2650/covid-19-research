{
 "cells": [
  {
   "cell_type": "code",
   "execution_count": 1,
   "metadata": {
    "scrolled": false
   },
   "outputs": [
    {
     "name": "stderr",
     "output_type": "stream",
     "text": [
      "[nltk_data] Downloading package punkt to\n",
      "[nltk_data]     /Users/tobiaskarentiuskromanndahl/nltk_data...\n",
      "[nltk_data]   Package punkt is already up-to-date!\n",
      "[nltk_data] Downloading package averaged_perceptron_tagger to\n",
      "[nltk_data]     /Users/tobiaskarentiuskromanndahl/nltk_data...\n",
      "[nltk_data]   Package averaged_perceptron_tagger is already up-to-\n",
      "[nltk_data]       date!\n"
     ]
    }
   ],
   "source": [
    "# Create a function to pull out nouns from a string of text\n",
    "from nltk import word_tokenize, pos_tag\n",
    "import nltk\n",
    "\n",
    "nltk.download('punkt')\n",
    "nltk.download('averaged_perceptron_tagger')\n",
    "\n",
    "def nouns(text):\n",
    "    '''Given a string of text, tokenize the text and pull out only the nouns.'''\n",
    "    is_noun = lambda pos: pos[:2] == 'NN'\n",
    "    tokenized = word_tokenize(text)\n",
    "    all_nouns = [word for (word, pos) in pos_tag(tokenized) if is_noun(pos)] \n",
    "    return ' '.join(all_nouns)"
   ]
  },
  {
   "cell_type": "code",
   "execution_count": null,
   "metadata": {},
   "outputs": [],
   "source": [
    "# Apply the nouns function to the transcripts to filter only on nouns\n",
    "'''data_clean = pd.read_pickle('pickle/data_nouns.pkl')\n",
    "data_nouns = pd.DataFrame(data_clean.content.apply(nouns))\n",
    "data_nouns.to_pickle('pickle/data_nouns.pkl')'''"
   ]
  },
  {
   "cell_type": "code",
   "execution_count": 2,
   "metadata": {},
   "outputs": [
    {
     "data": {
      "text/html": [
       "<div>\n",
       "<style scoped>\n",
       "    .dataframe tbody tr th:only-of-type {\n",
       "        vertical-align: middle;\n",
       "    }\n",
       "\n",
       "    .dataframe tbody tr th {\n",
       "        vertical-align: top;\n",
       "    }\n",
       "\n",
       "    .dataframe thead th {\n",
       "        text-align: right;\n",
       "    }\n",
       "</style>\n",
       "<table border=\"1\" class=\"dataframe\">\n",
       "  <thead>\n",
       "    <tr style=\"text-align: right;\">\n",
       "      <th></th>\n",
       "      <th>content</th>\n",
       "      <th>date</th>\n",
       "    </tr>\n",
       "  </thead>\n",
       "  <tbody>\n",
       "    <tr>\n",
       "      <th>0</th>\n",
       "      <td>cancer i cancer treatment today life i disbeli...</td>\n",
       "      <td>00</td>\n",
       "    </tr>\n",
       "    <tr>\n",
       "      <th>1</th>\n",
       "      <td>something link page commission work people gin...</td>\n",
       "      <td>00</td>\n",
       "    </tr>\n",
       "    <tr>\n",
       "      <th>2</th>\n",
       "      <td>cluster pneumonia city member family world hea...</td>\n",
       "      <td>01</td>\n",
       "    </tr>\n",
       "    <tr>\n",
       "      <th>3</th>\n",
       "      <td>airport mystery illness china credit update st...</td>\n",
       "      <td>01</td>\n",
       "    </tr>\n",
       "    <tr>\n",
       "      <th>4</th>\n",
       "      <td>finding outbreak pneumonia china people family...</td>\n",
       "      <td>01</td>\n",
       "    </tr>\n",
       "  </tbody>\n",
       "</table>\n",
       "</div>"
      ],
      "text/plain": [
       "                                             content date\n",
       "0  cancer i cancer treatment today life i disbeli...   00\n",
       "1  something link page commission work people gin...   00\n",
       "2  cluster pneumonia city member family world hea...   01\n",
       "3  airport mystery illness china credit update st...   01\n",
       "4  finding outbreak pneumonia china people family...   01"
      ]
     },
     "execution_count": 2,
     "metadata": {},
     "output_type": "execute_result"
    }
   ],
   "source": [
    "import pandas as pd\n",
    "import pickle\n",
    "\n",
    "data_nouns = pd.read_pickle('pickle/data_nouns.pkl')\n",
    "data_df = pd.read_pickle('pickle/data_df.pkl')\n",
    "\n",
    "data_nouns = data_nouns.join(data_df.date)\n",
    "\n",
    "data_nouns[\"date\"] = pd.to_datetime(data_nouns[\"date\"]).dt.strftime(\"%W\")\n",
    "#data_nouns = data_nouns.groupby('date', as_index=False, sort=False).agg({'content': ' '.join})\n",
    "data_nouns.head()"
   ]
  },
  {
   "cell_type": "code",
   "execution_count": 13,
   "metadata": {},
   "outputs": [],
   "source": [
    "# Import the necessary modules for LDA with gensim\n",
    "from gensim import matutils, models\n",
    "import scipy.sparse"
   ]
  },
  {
   "cell_type": "code",
   "execution_count": 21,
   "metadata": {},
   "outputs": [
    {
     "name": "stdout",
     "output_type": "stream",
     "text": [
      "\n",
      "Week  00\n",
      "\n",
      "Week  01\n",
      "\n",
      "Week  02\n",
      "\n",
      "Week  03\n",
      "\n",
      "Week  04\n",
      "\n",
      "Week  05\n",
      "\n",
      "Week  06\n",
      "\n",
      "Week  07\n",
      "\n",
      "Week  08\n",
      "\n",
      "Week  09\n",
      "\n",
      "Week  10\n",
      "\n",
      "Week  11\n",
      "\n",
      "Week  12\n",
      "\n",
      "Week  13\n",
      "\n",
      "Week  14\n",
      "\n",
      "Week  15\n",
      "\n",
      "Week  16\n",
      "\n",
      "Week  17\n",
      "\n",
      "Week  18\n"
     ]
    }
   ],
   "source": [
    "ldas = dict()\n",
    "\n",
    "for week in data_nouns.date.unique():\n",
    "\n",
    "    # CountVectorizer will create a matrix of how many times each word has been mentioned.\n",
    "    # The stop_words parameter will remove uninformative words such as 'him','her','the'.\n",
    "    cv = CountVectorizer(stop_words='english')\n",
    "    data_cv = cv.fit_transform(data_nouns[data_nouns.date == week].content)\n",
    "\n",
    "    # Creating a new dataframe where columns is the newly found feature names.\n",
    "    data_dtm = pd.DataFrame(data_cv.toarray(), columns=cv.get_feature_names())\n",
    "    data_dtm.index = data_nouns[data_nouns.date == week].index\n",
    "    \n",
    "    # One of the required inputs is a term-document matrix\n",
    "    tdm = data_dtm.transpose()\n",
    "    \n",
    "    # We're going to put the term-document matrix into a new gensim format, from df --> sparse matrix --> gensim corpus\n",
    "    sparse_counts = scipy.sparse.csr_matrix(tdm)\n",
    "    corpus = matutils.Sparse2Corpus(sparse_counts)\n",
    "\n",
    "    id2word = dict((v, k) for k, v in cv.vocabulary_.items())\n",
    "\n",
    "    # LDA for num_topics\n",
    "    ldas[week] = models.LdaModel(corpus=corpus, id2word=id2word, num_topics=5, passes=10)\n",
    "    print('\\nWeek ', week)"
   ]
  },
  {
   "cell_type": "code",
   "execution_count": 46,
   "metadata": {},
   "outputs": [
    {
     "name": "stdout",
     "output_type": "stream",
     "text": [
      "\n",
      "Week: 00\n",
      "\n",
      "[(0, '0.139*\"ginger\" + 0.035*\"health\" + 0.028*\"research\" + 0.028*\"nausea\" + 0.024*\"effect\" + 0.016*\"body\" + 0.016*\"people\" + 0.016*\"inflammation\" + 0.016*\"medicine\" + 0.016*\"pain\"'), (1, '0.005*\"ginger\" + 0.005*\"health\" + 0.005*\"research\" + 0.005*\"nausea\" + 0.005*\"effect\" + 0.004*\"cancer\" + 0.004*\"supplement\" + 0.004*\"medicine\" + 0.004*\"body\" + 0.004*\"inflammation\"'), (2, '0.006*\"ginger\" + 0.005*\"health\" + 0.005*\"cancer\" + 0.005*\"nausea\" + 0.005*\"research\" + 0.005*\"effect\" + 0.005*\"time\" + 0.005*\"treatment\" + 0.005*\"supplement\" + 0.005*\"extract\"'), (3, '0.005*\"cancer\" + 0.005*\"time\" + 0.005*\"story\" + 0.005*\"ginger\" + 0.004*\"round\" + 0.004*\"treatment\" + 0.004*\"diagnosis\" + 0.004*\"day\" + 0.004*\"doctor\" + 0.004*\"life\"'), (4, '0.059*\"cancer\" + 0.028*\"time\" + 0.020*\"day\" + 0.020*\"life\" + 0.016*\"treatment\" + 0.016*\"recovery\" + 0.016*\"doctor\" + 0.016*\"diagnosis\" + 0.016*\"round\" + 0.016*\"story\"')]\n",
      "\n",
      "Week: 01\n",
      "\n",
      "[(0, '0.003*\"anxiety\" + 0.003*\"body\" + 0.002*\"people\" + 0.002*\"person\" + 0.002*\"disorder\" + 0.002*\"health\" + 0.002*\"day\" + 0.002*\"food\" + 0.002*\"disease\" + 0.002*\"risk\"'), (1, '0.124*\"anxiety\" + 0.053*\"disorder\" + 0.030*\"people\" + 0.026*\"person\" + 0.013*\"effect\" + 0.011*\"health\" + 0.011*\"life\" + 0.011*\"trigger\" + 0.011*\"fear\" + 0.011*\"way\"'), (2, '0.044*\"body\" + 0.033*\"people\" + 0.031*\"health\" + 0.026*\"disease\" + 0.022*\"person\" + 0.021*\"day\" + 0.020*\"food\" + 0.013*\"blood\" + 0.011*\"diet\" + 0.011*\"water\"'), (3, '0.049*\"people\" + 0.041*\"health\" + 0.032*\"outbreak\" + 0.032*\"respiratory\" + 0.029*\"virus\" + 0.025*\"illness\" + 0.024*\"china\" + 0.022*\"pathogen\" + 0.022*\"source\" + 0.020*\"infection\"'), (4, '0.003*\"anxiety\" + 0.002*\"people\" + 0.002*\"health\" + 0.002*\"virus\" + 0.002*\"person\" + 0.002*\"outbreak\" + 0.002*\"information\" + 0.002*\"disorder\" + 0.002*\"respiratory\" + 0.002*\"source\"')]\n",
      "\n",
      "Week: 02\n",
      "\n",
      "[(0, '0.046*\"virus\" + 0.028*\"people\" + 0.025*\"disease\" + 0.023*\"china\" + 0.021*\"health\" + 0.019*\"coronaviruses\" + 0.019*\"city\" + 0.019*\"outbreak\" + 0.017*\"tract\" + 0.017*\"pneumonia\"'), (1, '0.048*\"health\" + 0.037*\"coronavirus\" + 0.033*\"virus\" + 0.030*\"china\" + 0.027*\"outbreak\" + 0.019*\"spread\" + 0.019*\"pneumonia\" + 0.018*\"disease\" + 0.017*\"people\" + 0.016*\"control\"'), (2, '0.078*\"health\" + 0.027*\"outbreak\" + 0.023*\"disease\" + 0.021*\"china\" + 0.017*\"report\" + 0.016*\"city\" + 0.015*\"coronavirus\" + 0.014*\"virus\" + 0.014*\"people\" + 0.014*\"commission\"'), (3, '0.035*\"year\" + 0.035*\"index\" + 0.022*\"day\" + 0.022*\"dollar\" + 0.022*\"stock\" + 0.015*\"china\" + 0.015*\"mask\" + 0.015*\"barrel\" + 0.015*\"phase\" + 0.015*\"crude\"'), (4, '0.003*\"health\" + 0.003*\"people\" + 0.003*\"outbreak\" + 0.003*\"china\" + 0.003*\"coronavirus\" + 0.003*\"virus\" + 0.003*\"airport\" + 0.003*\"market\" + 0.003*\"city\" + 0.003*\"risk\"')]\n",
      "\n",
      "Week: 03\n",
      "\n",
      "[(0, '0.031*\"stock\" + 0.022*\"market\" + 0.019*\"year\" + 0.019*\"coronavirus\" + 0.017*\"china\" + 0.014*\"oil\" + 0.013*\"virus\" + 0.012*\"earnings\" + 0.011*\"week\" + 0.011*\"growth\"'), (1, '0.021*\"coronavirus\" + 0.018*\"china\" + 0.013*\"virus\" + 0.013*\"health\" + 0.011*\"outbreak\" + 0.010*\"people\" + 0.009*\"world\" + 0.009*\"dollar\" + 0.007*\"vaccine\" + 0.007*\"year\"'), (2, '0.014*\"virus\" + 0.013*\"china\" + 0.012*\"outbreak\" + 0.012*\"world\" + 0.011*\"time\" + 0.010*\"people\" + 0.008*\"year\" + 0.008*\"day\" + 0.008*\"coronavirus\" + 0.008*\"disease\"'), (3, '0.049*\"people\" + 0.045*\"virus\" + 0.042*\"health\" + 0.039*\"coronavirus\" + 0.033*\"china\" + 0.020*\"outbreak\" + 0.019*\"city\" + 0.013*\"disease\" + 0.012*\"emergency\" + 0.012*\"world\"'), (4, '0.042*\"virus\" + 0.027*\"coronavirus\" + 0.026*\"china\" + 0.020*\"health\" + 0.020*\"people\" + 0.016*\"outbreak\" + 0.013*\"travel\" + 0.012*\"respiratory\" + 0.011*\"market\" + 0.010*\"disease\"')]\n",
      "\n",
      "Week: 04\n",
      "\n",
      "[(0, '0.018*\"deal\" + 0.015*\"striker\" + 0.014*\"transfer\" + 0.012*\"man\" + 0.012*\"revenue\" + 0.011*\"earnings\" + 0.011*\"newspaper\" + 0.010*\"club\" + 0.010*\"company\" + 0.010*\"loan\"'), (1, '0.018*\"virus\" + 0.014*\"coronavirus\" + 0.013*\"company\" + 0.012*\"information\" + 0.010*\"people\" + 0.009*\"china\" + 0.009*\"outbreak\" + 0.008*\"vaccine\" + 0.007*\"technology\" + 0.007*\"development\"'), (2, '0.049*\"china\" + 0.033*\"coronavirus\" + 0.029*\"virus\" + 0.026*\"health\" + 0.024*\"people\" + 0.017*\"outbreak\" + 0.017*\"travel\" + 0.011*\"government\" + 0.011*\"world\" + 0.010*\"country\"'), (3, '0.039*\"health\" + 0.039*\"coronavirus\" + 0.033*\"people\" + 0.024*\"virus\" + 0.019*\"china\" + 0.013*\"world\" + 0.012*\"outbreak\" + 0.011*\"day\" + 0.010*\"disease\" + 0.009*\"time\"'), (4, '0.020*\"coronavirus\" + 0.020*\"year\" + 0.019*\"market\" + 0.018*\"china\" + 0.015*\"growth\" + 0.015*\"stock\" + 0.014*\"virus\" + 0.014*\"quarter\" + 0.012*\"outbreak\" + 0.012*\"company\"')]\n",
      "\n",
      "Week: 05\n",
      "\n",
      "[(0, '0.034*\"coronavirus\" + 0.031*\"china\" + 0.021*\"people\" + 0.020*\"virus\" + 0.017*\"outbreak\" + 0.016*\"day\" + 0.014*\"health\" + 0.012*\"death\" + 0.012*\"world\" + 0.009*\"time\"'), (1, '0.024*\"company\" + 0.021*\"stock\" + 0.019*\"share\" + 0.018*\"earnings\" + 0.016*\"revenue\" + 0.012*\"coronavirus\" + 0.012*\"market\" + 0.011*\"year\" + 0.010*\"quarter\" + 0.008*\"trump\"'), (2, '0.040*\"coronavirus\" + 0.035*\"people\" + 0.031*\"health\" + 0.029*\"virus\" + 0.027*\"china\" + 0.012*\"outbreak\" + 0.011*\"day\" + 0.010*\"world\" + 0.010*\"disease\" + 0.009*\"ship\"'), (3, '0.028*\"oil\" + 0.018*\"demand\" + 0.016*\"coronavirus\" + 0.012*\"day\" + 0.012*\"china\" + 0.011*\"year\" + 0.010*\"market\" + 0.010*\"crude\" + 0.009*\"time\" + 0.009*\"trade\"'), (4, '0.034*\"china\" + 0.025*\"coronavirus\" + 0.018*\"year\" + 0.018*\"economy\" + 0.016*\"market\" + 0.015*\"virus\" + 0.015*\"growth\" + 0.014*\"outbreak\" + 0.014*\"week\" + 0.012*\"impact\"')]\n",
      "\n",
      "Week: 06\n",
      "\n",
      "[(0, '0.027*\"ship\" + 0.023*\"coronavirus\" + 0.022*\"china\" + 0.021*\"cruise\" + 0.017*\"health\" + 0.016*\"people\" + 0.013*\"virus\" + 0.013*\"board\" + 0.010*\"outbreak\" + 0.010*\"princess\"'), (1, '0.024*\"year\" + 0.021*\"coronavirus\" + 0.019*\"china\" + 0.018*\"company\" + 0.016*\"oil\" + 0.015*\"demand\" + 0.014*\"market\" + 0.012*\"week\" + 0.012*\"outbreak\" + 0.011*\"quarter\"'), (2, '0.045*\"coronavirus\" + 0.033*\"virus\" + 0.031*\"people\" + 0.030*\"health\" + 0.023*\"china\" + 0.012*\"world\" + 0.012*\"day\" + 0.011*\"outbreak\" + 0.011*\"newspaper\" + 0.010*\"disease\"'), (3, '0.021*\"people\" + 0.020*\"coronavirus\" + 0.016*\"china\" + 0.014*\"health\" + 0.013*\"virus\" + 0.011*\"outbreak\" + 0.010*\"disease\" + 0.009*\"time\" + 0.008*\"research\" + 0.007*\"risk\"'), (4, '0.028*\"coronavirus\" + 0.022*\"economy\" + 0.021*\"china\" + 0.018*\"stock\" + 0.017*\"outbreak\" + 0.015*\"growth\" + 0.015*\"market\" + 0.013*\"bank\" + 0.012*\"dollar\" + 0.011*\"data\"')]\n",
      "\n",
      "Week: 07\n",
      "\n",
      "[(0, '0.021*\"apple\" + 0.020*\"coronavirus\" + 0.018*\"company\" + 0.014*\"china\" + 0.010*\"quarter\" + 0.008*\"revenue\" + 0.008*\"people\" + 0.008*\"virus\" + 0.007*\"production\" + 0.007*\"year\"'), (1, '0.030*\"china\" + 0.013*\"company\" + 0.013*\"coronavirus\" + 0.012*\"year\" + 0.010*\"gold\" + 0.010*\"impact\" + 0.008*\"supply\" + 0.007*\"week\" + 0.007*\"health\" + 0.007*\"economy\"'), (2, '0.009*\"time\" + 0.008*\"government\" + 0.008*\"eu\" + 0.008*\"year\" + 0.007*\"trump\" + 0.007*\"trade\" + 0.007*\"president\" + 0.006*\"coronavirus\" + 0.006*\"tax\" + 0.005*\"fuel\"'), (3, '0.024*\"coronavirus\" + 0.021*\"year\" + 0.018*\"china\" + 0.017*\"growth\" + 0.015*\"market\" + 0.014*\"economy\" + 0.013*\"stock\" + 0.011*\"outbreak\" + 0.011*\"quarter\" + 0.011*\"impact\"'), (4, '0.038*\"coronavirus\" + 0.029*\"virus\" + 0.027*\"people\" + 0.026*\"china\" + 0.024*\"health\" + 0.013*\"outbreak\" + 0.013*\"ship\" + 0.012*\"day\" + 0.011*\"disease\" + 0.010*\"cruise\"')]\n",
      "\n",
      "Week: 08\n",
      "\n",
      "[(0, '0.022*\"coronavirus\" + 0.020*\"people\" + 0.014*\"virus\" + 0.013*\"home\" + 0.012*\"government\" + 0.011*\"newspaper\" + 0.011*\"day\" + 0.010*\"health\" + 0.009*\"time\" + 0.008*\"outbreak\"'), (1, '0.026*\"income\" + 0.026*\"revenue\" + 0.025*\"company\" + 0.022*\"quarter\" + 0.021*\"share\" + 0.018*\"year\" + 0.016*\"cash\" + 0.014*\"business\" + 0.014*\"tax\" + 0.013*\"earnings\"'), (2, '0.027*\"coronavirus\" + 0.026*\"stock\" + 0.022*\"market\" + 0.014*\"china\" + 0.013*\"week\" + 0.012*\"day\" + 0.012*\"time\" + 0.012*\"economy\" + 0.012*\"year\" + 0.010*\"virus\"'), (3, '0.025*\"year\" + 0.012*\"company\" + 0.012*\"coronavirus\" + 0.010*\"china\" + 0.009*\"time\" + 0.008*\"business\" + 0.008*\"production\" + 0.008*\"quarter\" + 0.007*\"source\" + 0.006*\"demand\"'), (4, '0.051*\"coronavirus\" + 0.037*\"health\" + 0.029*\"virus\" + 0.028*\"people\" + 0.017*\"outbreak\" + 0.016*\"china\" + 0.014*\"disease\" + 0.013*\"world\" + 0.013*\"travel\" + 0.011*\"spread\"')]\n",
      "\n",
      "Week: 09\n",
      "\n",
      "[(0, '0.025*\"coronavirus\" + 0.022*\"oil\" + 0.016*\"source\" + 0.015*\"company\" + 0.011*\"production\" + 0.009*\"china\" + 0.009*\"price\" + 0.008*\"year\" + 0.007*\"day\" + 0.007*\"demand\"'), (1, '0.017*\"time\" + 0.015*\"newspaper\" + 0.012*\"game\" + 0.010*\"league\" + 0.009*\"world\" + 0.009*\"event\" + 0.009*\"coronavirus\" + 0.008*\"year\" + 0.008*\"day\" + 0.008*\"team\"'), (2, '0.019*\"year\" + 0.017*\"market\" + 0.017*\"coronavirus\" + 0.014*\"stock\" + 0.012*\"company\" + 0.012*\"bank\" + 0.012*\"quarter\" + 0.011*\"business\" + 0.011*\"rate\" + 0.011*\"impact\"'), (3, '0.019*\"time\" + 0.014*\"people\" + 0.010*\"newspaper\" + 0.010*\"coronavirus\" + 0.007*\"hand\" + 0.007*\"way\" + 0.007*\"government\" + 0.006*\"day\" + 0.006*\"order\" + 0.006*\"family\"'), (4, '0.046*\"coronavirus\" + 0.036*\"people\" + 0.032*\"health\" + 0.026*\"virus\" + 0.013*\"outbreak\" + 0.012*\"government\" + 0.011*\"number\" + 0.011*\"day\" + 0.010*\"home\" + 0.010*\"disease\"')]\n",
      "\n",
      "Week: 10\n",
      "\n",
      "[(0, '0.029*\"market\" + 0.025*\"oil\" + 0.025*\"coronavirus\" + 0.021*\"stock\" + 0.019*\"bank\" + 0.016*\"economy\" + 0.014*\"week\" + 0.011*\"day\" + 0.011*\"price\" + 0.010*\"rate\"'), (1, '0.020*\"travel\" + 0.017*\"coronavirus\" + 0.015*\"government\" + 0.012*\"march\" + 0.011*\"cruise\" + 0.010*\"budget\" + 0.010*\"year\" + 0.010*\"eu\" + 0.008*\"time\" + 0.008*\"industry\"'), (2, '0.033*\"company\" + 0.019*\"business\" + 0.016*\"year\" + 0.015*\"information\" + 0.013*\"quarter\" + 0.009*\"march\" + 0.008*\"time\" + 0.008*\"release\" + 0.008*\"revenue\" + 0.008*\"loss\"'), (3, '0.040*\"coronavirus\" + 0.036*\"people\" + 0.026*\"health\" + 0.021*\"virus\" + 0.014*\"day\" + 0.013*\"government\" + 0.012*\"home\" + 0.012*\"time\" + 0.009*\"country\" + 0.009*\"outbreak\"'), (4, '0.028*\"league\" + 0.019*\"season\" + 0.017*\"coronavirus\" + 0.016*\"time\" + 0.014*\"newspaper\" + 0.011*\"football\" + 0.010*\"team\" + 0.009*\"decision\" + 0.009*\"game\" + 0.009*\"sport\"')]\n",
      "\n",
      "Week: 11\n",
      "\n",
      "[(0, '0.024*\"people\" + 0.022*\"time\" + 0.015*\"coronavirus\" + 0.012*\"day\" + 0.011*\"home\" + 0.010*\"way\" + 0.008*\"world\" + 0.008*\"newspaper\" + 0.007*\"week\" + 0.007*\"family\"'), (1, '0.036*\"people\" + 0.032*\"coronavirus\" + 0.029*\"health\" + 0.020*\"virus\" + 0.014*\"home\" + 0.014*\"day\" + 0.012*\"government\" + 0.010*\"time\" + 0.010*\"care\" + 0.009*\"disease\"'), (2, '0.033*\"company\" + 0.017*\"business\" + 0.017*\"information\" + 0.013*\"market\" + 0.011*\"year\" + 0.010*\"quarter\" + 0.009*\"release\" + 0.009*\"cash\" + 0.008*\"march\" + 0.008*\"time\"'), (3, '0.029*\"season\" + 0.021*\"newspaper\" + 0.018*\"league\" + 0.015*\"coronavirus\" + 0.014*\"time\" + 0.012*\"football\" + 0.012*\"order\" + 0.012*\"summer\" + 0.011*\"sport\" + 0.011*\"express\"'), (4, '0.032*\"coronavirus\" + 0.021*\"government\" + 0.016*\"crisis\" + 0.012*\"people\" + 0.012*\"day\" + 0.012*\"week\" + 0.012*\"economy\" + 0.011*\"time\" + 0.010*\"travel\" + 0.010*\"bank\"')]\n",
      "\n",
      "Week: 12\n",
      "\n",
      "[(0, '0.042*\"people\" + 0.033*\"coronavirus\" + 0.026*\"health\" + 0.020*\"government\" + 0.016*\"virus\" + 0.016*\"day\" + 0.016*\"home\" + 0.012*\"country\" + 0.011*\"time\" + 0.010*\"number\"'), (1, '0.026*\"coronavirus\" + 0.015*\"week\" + 0.013*\"economy\" + 0.013*\"market\" + 0.012*\"crisis\" + 0.012*\"trump\" + 0.012*\"president\" + 0.011*\"bank\" + 0.010*\"stock\" + 0.010*\"year\"'), (2, '0.022*\"time\" + 0.016*\"people\" + 0.016*\"coronavirus\" + 0.014*\"home\" + 0.014*\"newspaper\" + 0.012*\"day\" + 0.011*\"family\" + 0.009*\"prince\" + 0.008*\"week\" + 0.008*\"video\"'), (3, '0.034*\"company\" + 0.020*\"information\" + 0.019*\"business\" + 0.009*\"time\" + 0.009*\"year\" + 0.008*\"data\" + 0.008*\"release\" + 0.008*\"march\" + 0.007*\"cash\" + 0.007*\"development\"'), (4, '0.020*\"season\" + 0.015*\"newspaper\" + 0.015*\"time\" + 0.015*\"league\" + 0.013*\"world\" + 0.012*\"coronavirus\" + 0.009*\"order\" + 0.009*\"club\" + 0.009*\"sport\" + 0.009*\"year\"')]\n",
      "\n",
      "Week: 13\n",
      "\n",
      "[(0, '0.019*\"people\" + 0.016*\"time\" + 0.012*\"company\" + 0.012*\"money\" + 0.012*\"business\" + 0.010*\"coronavirus\" + 0.009*\"work\" + 0.009*\"tax\" + 0.009*\"year\" + 0.008*\"way\"'), (1, '0.039*\"coronavirus\" + 0.032*\"people\" + 0.025*\"health\" + 0.022*\"virus\" + 0.015*\"day\" + 0.014*\"number\" + 0.014*\"state\" + 0.013*\"country\" + 0.012*\"president\" + 0.012*\"york\"'), (2, '0.022*\"newspaper\" + 0.019*\"time\" + 0.015*\"coronavirus\" + 0.014*\"season\" + 0.012*\"order\" + 0.011*\"league\" + 0.011*\"express\" + 0.011*\"archive\" + 0.011*\"world\" + 0.008*\"prince\"'), (3, '0.032*\"people\" + 0.024*\"coronavirus\" + 0.018*\"health\" + 0.017*\"home\" + 0.016*\"day\" + 0.016*\"government\" + 0.013*\"time\" + 0.013*\"staff\" + 0.010*\"hospital\" + 0.009*\"care\"'), (4, '0.022*\"coronavirus\" + 0.018*\"oil\" + 0.016*\"market\" + 0.013*\"year\" + 0.013*\"march\" + 0.012*\"production\" + 0.012*\"crisis\" + 0.012*\"demand\" + 0.012*\"economy\" + 0.011*\"week\"')]\n",
      "\n",
      "Week: 14\n",
      "\n",
      "[(0, '0.027*\"newspaper\" + 0.019*\"time\" + 0.019*\"people\" + 0.017*\"coronavirus\" + 0.015*\"order\" + 0.014*\"express\" + 0.013*\"archive\" + 0.012*\"family\" + 0.010*\"easter\" + 0.010*\"prince\"'), (1, '0.021*\"coronavirus\" + 0.013*\"year\" + 0.012*\"crisis\" + 0.011*\"market\" + 0.011*\"economy\" + 0.011*\"season\" + 0.010*\"business\" + 0.010*\"bank\" + 0.009*\"league\" + 0.009*\"week\"'), (2, '0.016*\"time\" + 0.014*\"day\" + 0.014*\"people\" + 0.012*\"oil\" + 0.008*\"coronavirus\" + 0.008*\"way\" + 0.008*\"home\" + 0.007*\"world\" + 0.007*\"production\" + 0.005*\"life\"'), (3, '0.014*\"trump\" + 0.014*\"coronavirus\" + 0.012*\"president\" + 0.010*\"people\" + 0.010*\"government\" + 0.010*\"state\" + 0.008*\"house\" + 0.007*\"day\" + 0.007*\"travel\" + 0.007*\"health\"'), (4, '0.034*\"coronavirus\" + 0.033*\"people\" + 0.025*\"health\" + 0.018*\"virus\" + 0.015*\"day\" + 0.014*\"care\" + 0.013*\"government\" + 0.012*\"minister\" + 0.012*\"time\" + 0.011*\"hospital\"')]\n",
      "\n",
      "Week: 15\n",
      "\n",
      "[(0, '0.041*\"coronavirus\" + 0.024*\"health\" + 0.021*\"virus\" + 0.019*\"government\" + 0.019*\"people\" + 0.015*\"number\" + 0.014*\"country\" + 0.013*\"world\" + 0.013*\"china\" + 0.011*\"minister\"'), (1, '0.036*\"people\" + 0.021*\"health\" + 0.020*\"coronavirus\" + 0.019*\"home\" + 0.018*\"time\" + 0.016*\"care\" + 0.014*\"day\" + 0.013*\"staff\" + 0.013*\"hospital\" + 0.011*\"newspaper\"'), (2, '0.017*\"coronavirus\" + 0.016*\"company\" + 0.013*\"year\" + 0.013*\"business\" + 0.010*\"time\" + 0.010*\"crisis\" + 0.009*\"money\" + 0.009*\"government\" + 0.009*\"market\" + 0.008*\"week\"'), (3, '0.022*\"newspaper\" + 0.016*\"time\" + 0.014*\"season\" + 0.013*\"order\" + 0.013*\"coronavirus\" + 0.011*\"express\" + 0.011*\"archive\" + 0.010*\"league\" + 0.009*\"prince\" + 0.009*\"summer\"'), (4, '0.019*\"people\" + 0.011*\"time\" + 0.011*\"trump\" + 0.011*\"state\" + 0.009*\"coronavirus\" + 0.008*\"president\" + 0.007*\"way\" + 0.006*\"police\" + 0.006*\"day\" + 0.006*\"house\"')]\n",
      "\n",
      "Week: 16\n",
      "\n",
      "[(0, '0.032*\"people\" + 0.030*\"coronavirus\" + 0.025*\"health\" + 0.017*\"government\" + 0.017*\"virus\" + 0.011*\"day\" + 0.010*\"number\" + 0.010*\"time\" + 0.008*\"country\" + 0.008*\"care\"'), (1, '0.021*\"time\" + 0.017*\"people\" + 0.015*\"home\" + 0.015*\"day\" + 0.015*\"newspaper\" + 0.010*\"family\" + 0.010*\"coronavirus\" + 0.008*\"order\" + 0.008*\"way\" + 0.008*\"life\"'), (2, '0.022*\"oil\" + 0.018*\"company\" + 0.017*\"coronavirus\" + 0.016*\"market\" + 0.015*\"year\" + 0.012*\"demand\" + 0.010*\"economy\" + 0.010*\"week\" + 0.009*\"quarter\" + 0.009*\"stock\"'), (3, '0.023*\"season\" + 0.021*\"league\" + 0.020*\"newspaper\" + 0.014*\"summer\" + 0.014*\"coronavirus\" + 0.014*\"transfer\" + 0.012*\"club\" + 0.012*\"time\" + 0.011*\"sport\" + 0.011*\"order\"'), (4, '0.018*\"coronavirus\" + 0.015*\"government\" + 0.013*\"crisis\" + 0.012*\"trump\" + 0.010*\"president\" + 0.010*\"money\" + 0.009*\"prince\" + 0.009*\"time\" + 0.008*\"business\" + 0.008*\"people\"')]\n",
      "\n",
      "Week: 17\n",
      "\n",
      "[(0, '0.028*\"people\" + 0.028*\"coronavirus\" + 0.022*\"government\" + 0.018*\"health\" + 0.014*\"time\" + 0.012*\"newspaper\" + 0.012*\"care\" + 0.012*\"minister\" + 0.011*\"home\" + 0.011*\"day\"'), (1, '0.016*\"year\" + 0.016*\"company\" + 0.015*\"coronavirus\" + 0.014*\"business\" + 0.012*\"quarter\" + 0.010*\"market\" + 0.010*\"economy\" + 0.010*\"crisis\" + 0.010*\"money\" + 0.009*\"demand\"'), (2, '0.019*\"time\" + 0.015*\"day\" + 0.014*\"newspaper\" + 0.014*\"people\" + 0.009*\"home\" + 0.009*\"order\" + 0.009*\"coronavirus\" + 0.009*\"family\" + 0.009*\"way\" + 0.007*\"express\"'), (3, '0.028*\"people\" + 0.027*\"coronavirus\" + 0.022*\"virus\" + 0.019*\"health\" + 0.013*\"world\" + 0.011*\"day\" + 0.011*\"data\" + 0.011*\"china\" + 0.010*\"disease\" + 0.010*\"trump\"'), (4, '0.033*\"season\" + 0.026*\"league\" + 0.020*\"newspaper\" + 0.018*\"sport\" + 0.018*\"summer\" + 0.014*\"transfer\" + 0.013*\"football\" + 0.013*\"club\" + 0.013*\"express\" + 0.012*\"time\"')]\n",
      "\n",
      "Week: 18\n",
      "\n",
      "[(0, '0.018*\"season\" + 0.015*\"newspaper\" + 0.014*\"china\" + 0.014*\"year\" + 0.014*\"coronavirus\" + 0.010*\"league\" + 0.009*\"time\" + 0.008*\"order\" + 0.008*\"express\" + 0.007*\"world\"'), (1, '0.023*\"coronavirus\" + 0.018*\"people\" + 0.013*\"trump\" + 0.011*\"virus\" + 0.011*\"day\" + 0.009*\"country\" + 0.009*\"home\" + 0.008*\"health\" + 0.007*\"newspaper\" + 0.007*\"hospital\"'), (2, '0.022*\"coronavirus\" + 0.020*\"people\" + 0.014*\"air\" + 0.013*\"virus\" + 0.012*\"government\" + 0.011*\"pollution\" + 0.011*\"health\" + 0.011*\"time\" + 0.009*\"year\" + 0.008*\"china\"'), (3, '0.018*\"trade\" + 0.015*\"coronavirus\" + 0.012*\"dollar\" + 0.012*\"china\" + 0.011*\"week\" + 0.011*\"oil\" + 0.011*\"state\" + 0.009*\"kim\" + 0.009*\"crude\" + 0.008*\"evidence\"'), (4, '0.021*\"people\" + 0.019*\"coronavirus\" + 0.013*\"time\" + 0.011*\"health\" + 0.010*\"way\" + 0.009*\"virus\" + 0.009*\"newspaper\" + 0.008*\"government\" + 0.008*\"home\" + 0.008*\"crisis\"')]\n"
     ]
    }
   ],
   "source": [
    "from wordcloud import WordCloud\n",
    "import matplotlib.pyplot as plt\n",
    "\n",
    "for week, lda in ldas.items():\n",
    "    print(f'\\nWeek: {week}\\n')\n",
    "    print(lda.print_topics())"
   ]
  },
  {
   "cell_type": "code",
   "execution_count": null,
   "metadata": {},
   "outputs": [],
   "source": []
  },
  {
   "cell_type": "code",
   "execution_count": null,
   "metadata": {},
   "outputs": [],
   "source": [
    "# Let's take a look at which topics each transcript contains\n",
    "corpus_transformed = lda[corpus]\n",
    "list(zip([a for [(a,b)] in corpus_transformed], data_dtm.index))"
   ]
  }
 ],
 "metadata": {
  "kernelspec": {
   "display_name": "Python 3",
   "language": "python",
   "name": "python3"
  },
  "language_info": {
   "codemirror_mode": {
    "name": "ipython",
    "version": 3
   },
   "file_extension": ".py",
   "mimetype": "text/x-python",
   "name": "python",
   "nbconvert_exporter": "python",
   "pygments_lexer": "ipython3",
   "version": "3.7.2"
  }
 },
 "nbformat": 4,
 "nbformat_minor": 4
}
